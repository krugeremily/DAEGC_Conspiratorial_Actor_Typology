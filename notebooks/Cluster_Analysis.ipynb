{
 "cells": [
  {
   "cell_type": "markdown",
   "metadata": {},
   "source": [
    "**In this script, the calculated clusters will be qualitatively interpreted to gain an understanding of each of the types of actors**"
   ]
  },
  {
   "cell_type": "markdown",
   "metadata": {},
   "source": [
    "# Imports and Data Loading"
   ]
  },
  {
   "cell_type": "code",
   "execution_count": null,
   "metadata": {},
   "outputs": [],
   "source": [
    "import pandas as pd\n",
    "pd.set_option('display.max_columns', None)\n",
    "import numpy as np\n",
    "from collections import Counter\n",
    "\n",
    "import matplotlib.pyplot as plt\n",
    "import seaborn as sns\n",
    "from sklearn.manifold import TSNE\n",
    "\n",
    "from sklearn.preprocessing import StandardScaler\n",
    "from sklearn.impute import SimpleImputer\n",
    "from sklearn.linear_model import LogisticRegression\n",
    "from sklearn.model_selection import train_test_split\n",
    "from imblearn.combine import SMOTEENN\n",
    "from sklearn.metrics import classification_report, confusion_matrix, accuracy_score, f1_score\n",
    "\n",
    "import networkx as nx"
   ]
  },
  {
   "cell_type": "code",
   "execution_count": null,
   "metadata": {},
   "outputs": [],
   "source": [
    "full_data = pd.read_csv('../results/author_full_features_and_clusters.csv')"
   ]
  },
  {
   "cell_type": "code",
   "execution_count": null,
   "metadata": {},
   "outputs": [],
   "source": [
    "# rename clusters\n",
    "full_data['cluster'] = full_data['cluster'].replace({0: 'Cluster 1', 3: 'Cluster 2', 4: 'Cluster 3', 5: 'Cluster 4'})\n",
    "full_data.drop(columns=['cluster_1_prob', 'cluster_2_prob'], inplace=True)\n",
    "full_data.rename(columns={'cluster_0_prob': 'Cluster 1', 'cluster_3_prob': 'Cluster 2', 'cluster_4_prob': 'Cluster 3', 'cluster_5_prob': 'Cluster 4'}, inplace=True)"
   ]
  },
  {
   "cell_type": "code",
   "execution_count": null,
   "metadata": {},
   "outputs": [],
   "source": [
    "features = full_data.drop(columns=['author', 'avg_flesch_reading_ease_class', 'Cluster 1', 'Cluster 2', 'Cluster 3', 'Cluster 4'])"
   ]
  },
  {
   "cell_type": "markdown",
   "metadata": {},
   "source": [
    "# Visualizing Node Embedidngs"
   ]
  },
  {
   "cell_type": "code",
   "execution_count": null,
   "metadata": {},
   "outputs": [],
   "source": [
    "# load embeddings from npy files\n",
    "embeddings = np.load('../results/author_full_embeddings.npy')"
   ]
  },
  {
   "cell_type": "code",
   "execution_count": null,
   "metadata": {},
   "outputs": [],
   "source": [
    "# fit tsne\n",
    "tsne = TSNE(n_components=2, random_state=42)\n",
    "\n",
    "tsne_4 = tsne.fit_transform(embeddings)"
   ]
  },
  {
   "cell_type": "code",
   "execution_count": null,
   "metadata": {},
   "outputs": [],
   "source": [
    "# plot t-SNE embeddings\n",
    "plt.figure(figsize=(25, 15))\n",
    "scatter = plt.scatter(tsne_4[:,0], tsne_4[:,1], c=full_data['cluster'].astype('category').cat.codes, cmap='Accent', s=100)\n",
    "plt.title('t-SNE Visualization of Node Embeddings Colored by Cluster Assignment')\n",
    "\n",
    "# legend\n",
    "handles, labels = scatter.legend_elements(prop=\"colors\")\n",
    "unique_labels = full_data['cluster'].unique()\n",
    "legend_labels = [f'{label}' for label in unique_labels]\n",
    "legend_labels.sort()\n",
    "plt.legend(handles, legend_labels, markerscale=2)\n",
    "\n",
    "# adjust font size\n",
    "plt.rc('legend', fontsize=24)\n",
    "plt.rc('axes', titlesize=26)\n",
    "plt.rc('xtick', labelsize=24)\n",
    "plt.rc('ytick', labelsize=24)\n",
    "\n",
    "# legend title\n",
    "plt.gca().get_legend().set_title('')\n",
    "\n",
    "# make points in legend bigger\n",
    "plt.setp(plt.gca().get_legend().get_texts(), fontsize='24')\n",
    "\n",
    "plt.show()"
   ]
  },
  {
   "cell_type": "markdown",
   "metadata": {},
   "source": [
    "    - Well separated classes\n",
    "    - pink class biggest and more dispersed\n",
    "    - yellow class small and compact; probably some similarities to dark blue class"
   ]
  },
  {
   "cell_type": "markdown",
   "metadata": {},
   "source": [
    "# Distribution of Linguistic Features in Clusters"
   ]
  },
  {
   "cell_type": "code",
   "execution_count": null,
   "metadata": {},
   "outputs": [],
   "source": [
    "# get mean of eaxh feature oe each cluster\n",
    "means = features.groupby('cluster').mean()\n",
    "means"
   ]
  },
  {
   "cell_type": "markdown",
   "metadata": {},
   "source": [
    "    - soome features show (small differences), others don't\n",
    "    - needs to be tested if it is statistically significant"
   ]
  },
  {
   "cell_type": "code",
   "execution_count": null,
   "metadata": {},
   "outputs": [],
   "source": [
    "Counter(full_data['cluster'])"
   ]
  },
  {
   "cell_type": "code",
   "execution_count": null,
   "metadata": {},
   "outputs": [],
   "source": [
    "# add number of authors in each cluster to df\n",
    "cluster_counts = full_data['cluster'].value_counts()\n",
    "cluster_counts = cluster_counts.reset_index()\n",
    "cluster_counts.columns = ['cluster', 'count']\n",
    "means = means.merge(cluster_counts, on='cluster', how='left')"
   ]
  },
  {
   "cell_type": "code",
   "execution_count": null,
   "metadata": {},
   "outputs": [],
   "source": [
    "means.to_excel('../results/feature_means.xlsx', index=True)"
   ]
  },
  {
   "cell_type": "markdown",
   "metadata": {},
   "source": [
    "# Correlation"
   ]
  },
  {
   "cell_type": "markdown",
   "metadata": {},
   "source": [
    "## Testing Assumptions"
   ]
  },
  {
   "cell_type": "markdown",
   "metadata": {},
   "source": [
    "## Cluster 1"
   ]
  },
  {
   "cell_type": "code",
   "execution_count": null,
   "metadata": {},
   "outputs": [],
   "source": [
    "# testing linear relatio between features and clusters\n",
    "for x in features.columns[:-1]:\n",
    "    sns.scatterplot(x=full_data[x], y=full_data['Cluster 1'])\n",
    "    plt.title(f'Scatter Plot of {x} and Cluster 1')\n",
    "    plt.xlabel(f'{x}')\n",
    "    plt.ylabel('Cluster 1')\n",
    "    plt.show()"
   ]
  },
  {
   "cell_type": "code",
   "execution_count": null,
   "metadata": {},
   "outputs": [],
   "source": [
    "corr_1 = full_data.drop(columns=['author', 'avg_flesch_reading_ease_class', 'cluster', 'Cluster 2', 'Cluster 3', 'Cluster 4']).corr(method='spearman')\n",
    "corr_1['Cluster 1'].sort_values(ascending=False)"
   ]
  },
  {
   "cell_type": "code",
   "execution_count": null,
   "metadata": {},
   "outputs": [],
   "source": [
    "# highly correlated features with Cluster 1\n",
    "corr_1['Cluster 1'][abs(corr_1['Cluster 1']) > 0.7]"
   ]
  },
  {
   "cell_type": "markdown",
   "metadata": {},
   "source": [
    "## Cluster 2"
   ]
  },
  {
   "cell_type": "code",
   "execution_count": null,
   "metadata": {},
   "outputs": [],
   "source": [
    "corr_2 = full_data.drop(columns=['author', 'avg_flesch_reading_ease_class', 'cluster', 'Cluster 1', 'Cluster 3', 'Cluster 4']).corr(method='spearman')\n",
    "corr_2['Cluster 2'].sort_values(ascending=False)"
   ]
  },
  {
   "cell_type": "code",
   "execution_count": null,
   "metadata": {},
   "outputs": [],
   "source": [
    "# highly correlated features with Cluster 2\n",
    "corr_2['Cluster 2'][abs(corr_2['Cluster 2']) > 0.7]"
   ]
  },
  {
   "cell_type": "markdown",
   "metadata": {},
   "source": [
    "## Cluster 3"
   ]
  },
  {
   "cell_type": "code",
   "execution_count": null,
   "metadata": {},
   "outputs": [],
   "source": [
    "corr_3 = full_data.drop(columns=['author', 'avg_flesch_reading_ease_class', 'cluster', 'Cluster 1', 'Cluster 2', 'Cluster 4']).corr(method='spearman')\n",
    "corr_3['Cluster 3'].sort_values(ascending=False)"
   ]
  },
  {
   "cell_type": "code",
   "execution_count": null,
   "metadata": {},
   "outputs": [],
   "source": [
    "# highly correlated features with Cluster 3\n",
    "corr_3['Cluster 3'][abs(corr_3['Cluster 3']) > 0.7]"
   ]
  },
  {
   "cell_type": "markdown",
   "metadata": {},
   "source": [
    "## Cluster 4"
   ]
  },
  {
   "cell_type": "code",
   "execution_count": null,
   "metadata": {},
   "outputs": [],
   "source": [
    "corr_4 = full_data.drop(columns=['author', 'avg_flesch_reading_ease_class', 'cluster', 'Cluster 1', 'Cluster 2', 'Cluster 3']).corr(method='spearman')\n",
    "corr_4['Cluster 4'].sort_values(ascending=False)"
   ]
  },
  {
   "cell_type": "code",
   "execution_count": null,
   "metadata": {},
   "outputs": [],
   "source": [
    "# highly correlated features with Cluster 4\n",
    "corr_4['Cluster 4'][abs(corr_4['Cluster 4']) > 0.7]"
   ]
  },
  {
   "cell_type": "markdown",
   "metadata": {},
   "source": [
    "    No correlations for any of the features"
   ]
  },
  {
   "cell_type": "markdown",
   "metadata": {},
   "source": [
    "# Multinomial Logistic Regression"
   ]
  },
  {
   "cell_type": "code",
   "execution_count": null,
   "metadata": {},
   "outputs": [],
   "source": [
    "features.columns"
   ]
  },
  {
   "cell_type": "code",
   "execution_count": null,
   "metadata": {},
   "outputs": [],
   "source": [
    "# create train test split\n",
    "X = features.drop(columns=['cluster'])\n",
    "y = features['cluster']\n",
    "\n",
    "X_train, X_test, y_train, y_test = train_test_split(X, y, test_size=0.3, random_state=13)"
   ]
  },
  {
   "cell_type": "code",
   "execution_count": null,
   "metadata": {},
   "outputs": [],
   "source": [
    "# impute missing values & scale data\n",
    "scaler = StandardScaler()\n",
    "imputer = SimpleImputer(strategy='mean')\n",
    "\n",
    "X_train = imputer.fit_transform(X_train)\n",
    "X_train = scaler.fit_transform(X_train)\n",
    "\n",
    "X_test = imputer.fit_transform(X_test)\n",
    "X_test = scaler.fit_transform(X_test)"
   ]
  },
  {
   "cell_type": "code",
   "execution_count": null,
   "metadata": {},
   "outputs": [],
   "source": [
    "# combine over and under sampling to handle class imbalance\n",
    "smote_enn = SMOTEENN(random_state=42)\n",
    "X_train_resampled, y_train_resampled = smote_enn.fit_resample(X_train, y_train)"
   ]
  },
  {
   "cell_type": "code",
   "execution_count": null,
   "metadata": {},
   "outputs": [],
   "source": [
    "model = LogisticRegression(solver='lbfgs', max_iter=5000, class_weight='balanced')\n",
    "model.fit(X_train_resampled, y_train_resampled)"
   ]
  },
  {
   "cell_type": "code",
   "execution_count": null,
   "metadata": {},
   "outputs": [],
   "source": [
    "# predictions\n",
    "predictions = model.predict(X_test)\n",
    "predictions_proba = model.predict_proba(X_test)"
   ]
  },
  {
   "cell_type": "code",
   "execution_count": null,
   "metadata": {},
   "outputs": [],
   "source": [
    "# evaluate model\n",
    "print('Accuracy:', accuracy_score(y_test, predictions))\n",
    "print('F1 Score:',f1_score(y_test, predictions, average='weighted'))\n",
    "print('\\nClassification Report:\\n', classification_report(y_test, predictions))\n",
    "print('\\nConfusion Matrix:\\n', confusion_matrix(y_test, predictions))"
   ]
  },
  {
   "cell_type": "markdown",
   "metadata": {},
   "source": [
    "    MLR cannot handle class imbalance well"
   ]
  },
  {
   "cell_type": "markdown",
   "metadata": {},
   "source": [
    "# Network Metrics"
   ]
  },
  {
   "cell_type": "code",
   "execution_count": 2,
   "metadata": {},
   "outputs": [],
   "source": [
    "adj = np.load('../results/author_full_adj.npy')"
   ]
  },
  {
   "cell_type": "code",
   "execution_count": 3,
   "metadata": {},
   "outputs": [],
   "source": [
    "G = nx.from_numpy_array(adj)"
   ]
  },
  {
   "cell_type": "code",
   "execution_count": 5,
   "metadata": {},
   "outputs": [],
   "source": [
    "# get basic information about graph\n",
    "num_nodes = G.number_of_nodes()\n",
    "num_edges = G.number_of_edges()\n",
    "degrees = dict(G.degree())\n",
    "avg_degree = int(np.mean(list(degrees.values())))\n",
    "min_degree = np.min(list(degrees.values()))\n",
    "max_degree = np.max(list(degrees.values()))"
   ]
  },
  {
   "cell_type": "code",
   "execution_count": 6,
   "metadata": {},
   "outputs": [
    {
     "name": "stdout",
     "output_type": "stream",
     "text": [
      "Total Number of Nodes: 16885\n",
      "Total Number of Edges: 60965422\n",
      "Average Degree: 7221\n",
      "Minimum Degree: 0\n",
      "Maximum Degree: 16821\n"
     ]
    }
   ],
   "source": [
    "print('Total Number of Nodes:', num_nodes)\n",
    "print('Total Number of Edges:', num_edges)\n",
    "print('Average Degree:', avg_degree)\n",
    "print('Minimum Degree:', min_degree)\n",
    "print('Maximum Degree:', max_degree)"
   ]
  },
  {
   "cell_type": "code",
   "execution_count": 11,
   "metadata": {},
   "outputs": [
    {
     "data": {
      "image/png": "[encoded data removed]",
      "text/plain": [
       "<Figure size 1000x1000 with 1 Axes>"
      ]
     },
     "metadata": {},
     "output_type": "display_data"
    }
   ],
   "source": [
    "# distribution of degrees\n",
    "plt.figure(figsize=(10, 10))\n",
    "sns.histplot(list(degrees.values()), bins=20, kde=True)\n",
    "plt.title('Distribution of Node Degrees')\n",
    "plt.xlabel('Node Degree')\n",
    "plt.ylabel('Frequency')\n",
    "plt.show()"
   ]
  }
 ],
 "metadata": {
  "kernelspec": {
   "display_name": "thesis_venv",
   "language": "python",
   "name": "python3"
  },
  "language_info": {
   "codemirror_mode": {
    "name": "ipython",
    "version": 3
   },
   "file_extension": ".py",
   "mimetype": "text/x-python",
   "name": "python",
   "nbconvert_exporter": "python",
   "pygments_lexer": "ipython3",
   "version": "3.9.12"
  }
 },
 "nbformat": 4,
 "nbformat_minor": 2
}
